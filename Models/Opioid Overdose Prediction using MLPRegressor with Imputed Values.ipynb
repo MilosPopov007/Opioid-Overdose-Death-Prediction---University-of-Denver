{
 "cells": [
  {
   "cell_type": "code",
   "execution_count": 1,
   "id": "f24f89f3",
   "metadata": {},
   "outputs": [],
   "source": [
    "import pandas as pd\n",
    "import numpy as np\n",
    "from sklearn.neural_network import MLPRegressor\n",
    "from sklearn.model_selection import train_test_split\n",
    "from sklearn.metrics import r2_score, mean_squared_error\n",
    "from sklearn.preprocessing import StandardScaler\n",
    "import warnings\n",
    "warnings.filterwarnings('ignore')\n"
   ]
  },
  {
   "cell_type": "code",
   "execution_count": 2,
   "id": "f2be59ad",
   "metadata": {},
   "outputs": [],
   "source": [
    "# Load the data\n",
    "df = pd.read_csv('../Resources_Tables/FINAL_opioid_data_UNCLEAN.csv)\n",
    "df.dropna(inplace=True)"
   ]
  },
  {
   "cell_type": "code",
   "execution_count": 3,
   "id": "e6f9b67f",
   "metadata": {},
   "outputs": [],
   "source": [
    "# Split into two groups: one with non-suppressed data, and another with only suppressed data\n",
    "\n",
    "df_non_suppressed = df[df['deaths'] != 'Suppressed']\n",
    "df_suppressed = df[df['deaths'] == 'Suppressed']"
   ]
  },
  {
   "cell_type": "code",
   "execution_count": 4,
   "id": "be7553ba",
   "metadata": {},
   "outputs": [],
   "source": [
    "# Calculate mean and standard deviation for non-suppressed group\n",
    "\n",
    "mean_deaths = df_non_suppressed['deaths'].astype(float).mean()\n",
    "std_deaths = df_non_suppressed['deaths'].astype(float).std()\n",
    "mean_cruderate = df_non_suppressed['cruderate'].astype(float).mean()\n",
    "std_cruderate = df_non_suppressed['cruderate'].astype(float).std()"
   ]
  },
  {
   "cell_type": "code",
   "execution_count": 5,
   "id": "3e9dabd8",
   "metadata": {},
   "outputs": [],
   "source": [
    "# Impute suppressed values by sampling from normal distribution\n",
    "\n",
    "imputed_deaths = np.random.normal(loc=mean_deaths, scale=std_deaths, size=len(df_suppressed))\n",
    "imputed_cruderate = np.random.normal(loc=mean_cruderate, scale=std_cruderate, size=len(df_suppressed))"
   ]
  },
  {
   "cell_type": "code",
   "execution_count": 6,
   "id": "5e0450fc",
   "metadata": {},
   "outputs": [],
   "source": [
    "# Replace suppressed values with imputed values\n",
    "\n",
    "df_suppressed.loc[:, 'deaths'] = imputed_deaths\n",
    "df_suppressed.loc[:, 'cruderate'] = imputed_cruderate"
   ]
  },
  {
   "cell_type": "code",
   "execution_count": 7,
   "id": "0751fd1a",
   "metadata": {},
   "outputs": [],
   "source": [
    "# Merge the two groups back together\n",
    "\n",
    "df_imputed = pd.concat([df_non_suppressed, df_suppressed])"
   ]
  },
  {
   "cell_type": "code",
   "execution_count": 8,
   "id": "6f090296",
   "metadata": {},
   "outputs": [],
   "source": [
    "# Convert 'deaths' and 'cruderate' columns to float type\n",
    "\n",
    "df_imputed['deaths'] = df_imputed['deaths'].astype(float)\n",
    "df_imputed['cruderate'] = df_imputed['cruderate'].astype(float)"
   ]
  },
  {
   "cell_type": "code",
   "execution_count": 9,
   "id": "5fb6a973",
   "metadata": {},
   "outputs": [],
   "source": [
    "# Drop unnecessary columns\n",
    "\n",
    "df_imputed.drop(['PovertyRate', 'UnemployedRate', 'cruderate'], axis=1, inplace=True)"
   ]
  },
  {
   "cell_type": "code",
   "execution_count": 10,
   "id": "db24a3e2",
   "metadata": {},
   "outputs": [
    {
     "data": {
      "text/html": [
       "<div>\n",
       "<style scoped>\n",
       "    .dataframe tbody tr th:only-of-type {\n",
       "        vertical-align: middle;\n",
       "    }\n",
       "\n",
       "    .dataframe tbody tr th {\n",
       "        vertical-align: top;\n",
       "    }\n",
       "\n",
       "    .dataframe thead th {\n",
       "        text-align: right;\n",
       "    }\n",
       "</style>\n",
       "<table border=\"1\" class=\"dataframe\">\n",
       "  <thead>\n",
       "    <tr style=\"text-align: right;\">\n",
       "      <th></th>\n",
       "      <th>Year</th>\n",
       "      <th>countycode</th>\n",
       "      <th>State</th>\n",
       "      <th>county</th>\n",
       "      <th>population</th>\n",
       "      <th>deaths</th>\n",
       "      <th>DispenseRate</th>\n",
       "      <th>PersonalIncome</th>\n",
       "      <th>PerCapitaPersonalIncome</th>\n",
       "      <th>LessThanHS</th>\n",
       "      <th>HSDiplomaOnly</th>\n",
       "      <th>SomeCollege</th>\n",
       "      <th>BachelorOrHigher</th>\n",
       "      <th>PovertyPop</th>\n",
       "      <th>UnemployedPop</th>\n",
       "    </tr>\n",
       "  </thead>\n",
       "  <tbody>\n",
       "    <tr>\n",
       "      <th>1</th>\n",
       "      <td>2020</td>\n",
       "      <td>1003</td>\n",
       "      <td>AL</td>\n",
       "      <td>Baldwin County, AL</td>\n",
       "      <td>229287</td>\n",
       "      <td>41.0</td>\n",
       "      <td>65.0</td>\n",
       "      <td>51348.0</td>\n",
       "      <td>233140.0</td>\n",
       "      <td>20635.83</td>\n",
       "      <td>62824.64</td>\n",
       "      <td>71537.54</td>\n",
       "      <td>74518.28</td>\n",
       "      <td>20189.0</td>\n",
       "      <td>6159.0</td>\n",
       "    </tr>\n",
       "    <tr>\n",
       "      <th>27</th>\n",
       "      <td>2020</td>\n",
       "      <td>1055</td>\n",
       "      <td>AL</td>\n",
       "      <td>Etowah County, AL</td>\n",
       "      <td>102371</td>\n",
       "      <td>13.0</td>\n",
       "      <td>102.8</td>\n",
       "      <td>39795.0</td>\n",
       "      <td>103393.0</td>\n",
       "      <td>14127.20</td>\n",
       "      <td>34601.40</td>\n",
       "      <td>35215.62</td>\n",
       "      <td>18426.78</td>\n",
       "      <td>15650.0</td>\n",
       "      <td>3505.0</td>\n",
       "    </tr>\n",
       "    <tr>\n",
       "      <th>36</th>\n",
       "      <td>2020</td>\n",
       "      <td>1073</td>\n",
       "      <td>AL</td>\n",
       "      <td>Jefferson County, AL</td>\n",
       "      <td>655342</td>\n",
       "      <td>227.0</td>\n",
       "      <td>139.0</td>\n",
       "      <td>58053.0</td>\n",
       "      <td>673341.0</td>\n",
       "      <td>58980.78</td>\n",
       "      <td>173010.29</td>\n",
       "      <td>195947.26</td>\n",
       "      <td>227403.67</td>\n",
       "      <td>92310.0</td>\n",
       "      <td>21947.0</td>\n",
       "    </tr>\n",
       "    <tr>\n",
       "      <th>44</th>\n",
       "      <td>2020</td>\n",
       "      <td>1089</td>\n",
       "      <td>AL</td>\n",
       "      <td>Madison County, AL</td>\n",
       "      <td>379453</td>\n",
       "      <td>68.0</td>\n",
       "      <td>87.3</td>\n",
       "      <td>56499.0</td>\n",
       "      <td>389696.0</td>\n",
       "      <td>30356.24</td>\n",
       "      <td>72854.98</td>\n",
       "      <td>108144.11</td>\n",
       "      <td>168097.68</td>\n",
       "      <td>39100.0</td>\n",
       "      <td>9761.0</td>\n",
       "    </tr>\n",
       "    <tr>\n",
       "      <th>48</th>\n",
       "      <td>2020</td>\n",
       "      <td>1097</td>\n",
       "      <td>AL</td>\n",
       "      <td>Mobile County, AL</td>\n",
       "      <td>412716</td>\n",
       "      <td>46.0</td>\n",
       "      <td>98.0</td>\n",
       "      <td>42837.0</td>\n",
       "      <td>414250.0</td>\n",
       "      <td>49938.64</td>\n",
       "      <td>141148.87</td>\n",
       "      <td>122576.65</td>\n",
       "      <td>98639.12</td>\n",
       "      <td>71398.0</td>\n",
       "      <td>16931.0</td>\n",
       "    </tr>\n",
       "  </tbody>\n",
       "</table>\n",
       "</div>"
      ],
      "text/plain": [
       "    Year  countycode State                county  population  deaths  \\\n",
       "1   2020        1003    AL    Baldwin County, AL      229287    41.0   \n",
       "27  2020        1055    AL     Etowah County, AL      102371    13.0   \n",
       "36  2020        1073    AL  Jefferson County, AL      655342   227.0   \n",
       "44  2020        1089    AL    Madison County, AL      379453    68.0   \n",
       "48  2020        1097    AL     Mobile County, AL      412716    46.0   \n",
       "\n",
       "    DispenseRate  PersonalIncome  PerCapitaPersonalIncome  LessThanHS  \\\n",
       "1           65.0         51348.0                 233140.0    20635.83   \n",
       "27         102.8         39795.0                 103393.0    14127.20   \n",
       "36         139.0         58053.0                 673341.0    58980.78   \n",
       "44          87.3         56499.0                 389696.0    30356.24   \n",
       "48          98.0         42837.0                 414250.0    49938.64   \n",
       "\n",
       "    HSDiplomaOnly  SomeCollege  BachelorOrHigher  PovertyPop  UnemployedPop  \n",
       "1        62824.64     71537.54          74518.28     20189.0         6159.0  \n",
       "27       34601.40     35215.62          18426.78     15650.0         3505.0  \n",
       "36      173010.29    195947.26         227403.67     92310.0        21947.0  \n",
       "44       72854.98    108144.11         168097.68     39100.0         9761.0  \n",
       "48      141148.87    122576.65          98639.12     71398.0        16931.0  "
      ]
     },
     "execution_count": 10,
     "metadata": {},
     "output_type": "execute_result"
    }
   ],
   "source": [
    "# Df\n",
    "\n",
    "df_imputed.head()"
   ]
  },
  {
   "cell_type": "code",
   "execution_count": 11,
   "id": "4809f6b5",
   "metadata": {},
   "outputs": [],
   "source": [
    "# Apply one-hot encoding to 'State' and 'county' columns\n",
    "\n",
    "df_encoded = pd.get_dummies(df_imputed, columns=['State', 'county'])"
   ]
  },
  {
   "cell_type": "code",
   "execution_count": 12,
   "id": "69370194",
   "metadata": {},
   "outputs": [],
   "source": [
    "# Split the dataset into input features (X) and target variable (y)\n",
    "\n",
    "X = df_encoded.drop('deaths', axis=1)\n",
    "y = df_encoded['deaths']"
   ]
  },
  {
   "cell_type": "code",
   "execution_count": 13,
   "id": "c748b621",
   "metadata": {},
   "outputs": [],
   "source": [
    "# Split the data into training and testing sets\n",
    "\n",
    "X_train, X_test, y_train, y_test = train_test_split(X, y, test_size=0.2, random_state=42)"
   ]
  },
  {
   "cell_type": "code",
   "execution_count": 14,
   "id": "6d3c183f",
   "metadata": {},
   "outputs": [],
   "source": [
    "# Scale the features using StandardScaler\n",
    "\n",
    "scaler = StandardScaler()\n",
    "X_train_scaled = scaler.fit_transform(X_train)\n",
    "X_test_scaled = scaler.transform(X_test)"
   ]
  },
  {
   "cell_type": "code",
   "execution_count": 15,
   "id": "d562350f",
   "metadata": {},
   "outputs": [],
   "source": [
    "# Initialize the MLPRegressor with max_iter=500\n",
    "\n",
    "mlp = MLPRegressor(hidden_layer_sizes=(64, 64), activation='relu', solver='adam', random_state=42, max_iter=500)\n",
    "\n",
    "\n",
    "# Fit the MLPRegressor to the training data\n",
    "mlp.fit(X_train_scaled, y_train)\n",
    "\n",
    "# Predict the target variable using the trained MLPRegressor\n",
    "y_pred_mlp = mlp.predict(X_test_scaled)"
   ]
  },
  {
   "cell_type": "code",
   "execution_count": 16,
   "id": "8f5691a6",
   "metadata": {},
   "outputs": [
    {
     "name": "stdout",
     "output_type": "stream",
     "text": [
      "MLPRegressor R-squared score: -0.593\n",
      "MLPRegressor Mean Squared Error: 16012.284\n",
      "MLPRegressor Root Mean Squared Error: 126.540\n"
     ]
    }
   ],
   "source": [
    "# Calculate R-squared score, Mean Squared Error, and Root Mean Squared Error for the MLPRegressor\n",
    "mlp_r2 = r2_score(y_test, y_pred_mlp)\n",
    "mlp_mse = mean_squared_error(y_test, y_pred_mlp)\n",
    "mlp_rmse = np.sqrt(mlp_mse)\n",
    "\n",
    "print(f\"MLPRegressor R-squared score: {mlp_r2:.3f}\")\n",
    "print(f\"MLPRegressor Mean Squared Error: {mlp_mse:.3f}\")\n",
    "print(f\"MLPRegressor Root Mean Squared Error: {mlp_rmse:.3f}\")"
   ]
  },
  {
   "cell_type": "code",
   "execution_count": null,
   "id": "69c9fa0c",
   "metadata": {},
   "outputs": [],
   "source": []
  }
 ],
 "metadata": {
  "kernelspec": {
   "display_name": "Python 3 (ipykernel)",
   "language": "python",
   "name": "python3"
  },
  "language_info": {
   "codemirror_mode": {
    "name": "ipython",
    "version": 3
   },
   "file_extension": ".py",
   "mimetype": "text/x-python",
   "name": "python",
   "nbconvert_exporter": "python",
   "pygments_lexer": "ipython3",
   "version": "3.7.13"
  }
 },
 "nbformat": 4,
 "nbformat_minor": 5
}
