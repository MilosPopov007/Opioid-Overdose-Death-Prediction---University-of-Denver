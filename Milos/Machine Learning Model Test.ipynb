{
 "cells": [
  {
   "cell_type": "code",
   "execution_count": null,
   "id": "3f18a486",
   "metadata": {},
   "outputs": [],
   "source": [
    "# Import necessary libraries\n",
    "import pandas as pd\n",
    "import numpy as np\n",
    "from sklearn.model_selection import train_test_split\n",
    "from sklearn.preprocessing import StandardScaler\n",
    "from sklearn.neural_network import MLPRegressor\n",
    "from sklearn.ensemble import RandomForestRegressor\n",
    "from sklearn.metrics import mean_squared_error, r2_score"
   ]
  },
  {
   "cell_type": "code",
   "execution_count": null,
   "id": "cdfda8cb",
   "metadata": {},
   "outputs": [],
   "source": [
    "# Load  dataset \n",
    "data = pd.read_csv(\"dataset.csv\")"
   ]
  },
  {
   "cell_type": "code",
   "execution_count": null,
   "id": "11e727dd",
   "metadata": {},
   "outputs": [],
   "source": [
    "# Preprocess the data (drop unnecessary columns, handle missing values, etc.)\n"
   ]
  },
  {
   "cell_type": "code",
   "execution_count": null,
   "id": "564f63a7",
   "metadata": {},
   "outputs": [],
   "source": [
    "# Prepare the feature matrix (X) and target vector (y)\n",
    "feature_columns = ['Population', 'Education', 'Unemployment', 'Poverty', 'Income', 'Dispensing Rate']\n",
    "X = data[feature_columns]\n",
    "y = data['Total Overdose Deaths']"
   ]
  },
  {
   "cell_type": "code",
   "execution_count": null,
   "id": "757e8737",
   "metadata": {},
   "outputs": [],
   "source": [
    "# Split the data into training and test sets\n",
    "X_train, X_test, y_train, y_test = train_test_split(X, y, test_size=0.2, random_state=42)"
   ]
  },
  {
   "cell_type": "code",
   "execution_count": null,
   "id": "30906e0b",
   "metadata": {},
   "outputs": [],
   "source": [
    "# Scale the data\n",
    "scaler = StandardScaler()\n",
    "X_train_scaled = scaler.fit_transform(X_train)\n",
    "X_test_scaled = scaler.transform(X_test)"
   ]
  },
  {
   "cell_type": "code",
   "execution_count": null,
   "id": "9ac252f9",
   "metadata": {},
   "outputs": [],
   "source": [
    "# Train a neural network\n",
    "nn_model = MLPRegressor(hidden_layer_sizes=(50, 50), activation='relu', solver='adam', max_iter=1000, random_state=42)\n",
    "nn_model.fit(X_train_scaled, y_train)"
   ]
  },
  {
   "cell_type": "code",
   "execution_count": null,
   "id": "68951430",
   "metadata": {},
   "outputs": [],
   "source": [
    "# Make predictions with the neural network\n",
    "nn_predictions = nn_model.predict(X_test_scaled)"
   ]
  },
  {
   "cell_type": "code",
   "execution_count": null,
   "id": "c45b6553",
   "metadata": {},
   "outputs": [],
   "source": [
    "# Evaluate the neural network model\n",
    "nn_mse = mean_squared_error(y_test, nn_predictions)\n",
    "nn_r2 = r2_score(y_test, nn_predictions)\n",
    "print(f\"Neural Network MSE: {nn_mse}, R2 Score: {nn_r2}\")"
   ]
  },
  {
   "cell_type": "code",
   "execution_count": null,
   "id": "010e8796",
   "metadata": {},
   "outputs": [],
   "source": [
    "# Train a random forest\n",
    "rf_model = RandomForestRegressor(n_estimators=100, max_depth=10, random_state=42)\n",
    "rf_model.fit(X_train, y_train)"
   ]
  },
  {
   "cell_type": "code",
   "execution_count": null,
   "id": "fa394727",
   "metadata": {},
   "outputs": [],
   "source": [
    "# Make predictions with the random forest\n",
    "rf_predictions = rf_model.predict(X_test)"
   ]
  },
  {
   "cell_type": "code",
   "execution_count": null,
   "id": "42d97c5e",
   "metadata": {},
   "outputs": [],
   "source": [
    "# Evaluate the random forest model\n",
    "rf_mse = mean_squared_error(y_test, rf_predictions)\n",
    "rf_r2 = r2_score(y_test, rf_predictions)\n",
    "print(f\"Random Forest MSE: {rf_mse}, R2 Score: {rf_r2}\")"
   ]
  },
  {
   "cell_type": "code",
   "execution_count": null,
   "id": "0aa85a54",
   "metadata": {},
   "outputs": [],
   "source": [
    "# Compare and choose the best model based on evaluation metrics\n",
    "# ..."
   ]
  }
 ],
 "metadata": {
  "kernelspec": {
   "display_name": "mlenv",
   "language": "python",
   "name": "mlenv"
  },
  "language_info": {
   "codemirror_mode": {
    "name": "ipython",
    "version": 3
   },
   "file_extension": ".py",
   "mimetype": "text/x-python",
   "name": "python",
   "nbconvert_exporter": "python",
   "pygments_lexer": "ipython3",
   "version": "3.7.13"
  }
 },
 "nbformat": 4,
 "nbformat_minor": 5
}
