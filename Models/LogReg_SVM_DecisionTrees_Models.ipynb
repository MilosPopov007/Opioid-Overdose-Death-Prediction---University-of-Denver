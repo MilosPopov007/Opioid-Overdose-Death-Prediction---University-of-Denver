{
 "cells": [
  {
   "cell_type": "code",
   "execution_count": 1,
   "id": "2ea5358c",
   "metadata": {},
   "outputs": [],
   "source": [
    "import numpy as np\n",
    "import pandas as pd\n",
    "import matplotlib.pyplot as plt"
   ]
  },
  {
   "cell_type": "code",
   "execution_count": 2,
   "id": "434767eb",
   "metadata": {},
   "outputs": [
    {
     "data": {
      "text/html": [
       "<div>\n",
       "<style scoped>\n",
       "    .dataframe tbody tr th:only-of-type {\n",
       "        vertical-align: middle;\n",
       "    }\n",
       "\n",
       "    .dataframe tbody tr th {\n",
       "        vertical-align: top;\n",
       "    }\n",
       "\n",
       "    .dataframe thead th {\n",
       "        text-align: right;\n",
       "    }\n",
       "</style>\n",
       "<table border=\"1\" class=\"dataframe\">\n",
       "  <thead>\n",
       "    <tr style=\"text-align: right;\">\n",
       "      <th></th>\n",
       "      <th>Unnamed: 0</th>\n",
       "      <th>Year</th>\n",
       "      <th>countycode</th>\n",
       "      <th>State</th>\n",
       "      <th>county</th>\n",
       "      <th>population</th>\n",
       "      <th>deaths</th>\n",
       "      <th>cruderate</th>\n",
       "      <th>DispenseRate</th>\n",
       "      <th>PersonalIncome</th>\n",
       "      <th>PerCapitaPersonalIncome</th>\n",
       "      <th>LessThanHS</th>\n",
       "      <th>HSDiplomaOnly</th>\n",
       "      <th>SomeCollege</th>\n",
       "      <th>BachelorOrHigher</th>\n",
       "      <th>PovertyPop</th>\n",
       "      <th>PovertyRate</th>\n",
       "      <th>UnemployedPop</th>\n",
       "      <th>UnemployedRate</th>\n",
       "    </tr>\n",
       "  </thead>\n",
       "  <tbody>\n",
       "    <tr>\n",
       "      <th>0</th>\n",
       "      <td>1</td>\n",
       "      <td>2020</td>\n",
       "      <td>1003</td>\n",
       "      <td>AL</td>\n",
       "      <td>Baldwin County, AL</td>\n",
       "      <td>229287</td>\n",
       "      <td>41</td>\n",
       "      <td>17.9</td>\n",
       "      <td>65.0</td>\n",
       "      <td>51348.0</td>\n",
       "      <td>233140.0</td>\n",
       "      <td>20635.83</td>\n",
       "      <td>62824.64</td>\n",
       "      <td>71537.54</td>\n",
       "      <td>74518.28</td>\n",
       "      <td>20189.0</td>\n",
       "      <td>8.9</td>\n",
       "      <td>6159.0</td>\n",
       "      <td>6.2</td>\n",
       "    </tr>\n",
       "    <tr>\n",
       "      <th>1</th>\n",
       "      <td>27</td>\n",
       "      <td>2020</td>\n",
       "      <td>1055</td>\n",
       "      <td>AL</td>\n",
       "      <td>Etowah County, AL</td>\n",
       "      <td>102371</td>\n",
       "      <td>13</td>\n",
       "      <td>12.7</td>\n",
       "      <td>102.8</td>\n",
       "      <td>39795.0</td>\n",
       "      <td>103393.0</td>\n",
       "      <td>14127.20</td>\n",
       "      <td>34601.40</td>\n",
       "      <td>35215.62</td>\n",
       "      <td>18426.78</td>\n",
       "      <td>15650.0</td>\n",
       "      <td>15.6</td>\n",
       "      <td>3505.0</td>\n",
       "      <td>8.5</td>\n",
       "    </tr>\n",
       "    <tr>\n",
       "      <th>2</th>\n",
       "      <td>36</td>\n",
       "      <td>2020</td>\n",
       "      <td>1073</td>\n",
       "      <td>AL</td>\n",
       "      <td>Jefferson County, AL</td>\n",
       "      <td>655342</td>\n",
       "      <td>227</td>\n",
       "      <td>34.6</td>\n",
       "      <td>139.0</td>\n",
       "      <td>58053.0</td>\n",
       "      <td>673341.0</td>\n",
       "      <td>58980.78</td>\n",
       "      <td>173010.29</td>\n",
       "      <td>195947.26</td>\n",
       "      <td>227403.67</td>\n",
       "      <td>92310.0</td>\n",
       "      <td>14.4</td>\n",
       "      <td>21947.0</td>\n",
       "      <td>6.9</td>\n",
       "    </tr>\n",
       "    <tr>\n",
       "      <th>3</th>\n",
       "      <td>44</td>\n",
       "      <td>2020</td>\n",
       "      <td>1089</td>\n",
       "      <td>AL</td>\n",
       "      <td>Madison County, AL</td>\n",
       "      <td>379453</td>\n",
       "      <td>68</td>\n",
       "      <td>17.9</td>\n",
       "      <td>87.3</td>\n",
       "      <td>56499.0</td>\n",
       "      <td>389696.0</td>\n",
       "      <td>30356.24</td>\n",
       "      <td>72854.98</td>\n",
       "      <td>108144.11</td>\n",
       "      <td>168097.68</td>\n",
       "      <td>39100.0</td>\n",
       "      <td>10.5</td>\n",
       "      <td>9761.0</td>\n",
       "      <td>5.1</td>\n",
       "    </tr>\n",
       "    <tr>\n",
       "      <th>4</th>\n",
       "      <td>48</td>\n",
       "      <td>2020</td>\n",
       "      <td>1097</td>\n",
       "      <td>AL</td>\n",
       "      <td>Mobile County, AL</td>\n",
       "      <td>412716</td>\n",
       "      <td>46</td>\n",
       "      <td>11.1</td>\n",
       "      <td>98.0</td>\n",
       "      <td>42837.0</td>\n",
       "      <td>414250.0</td>\n",
       "      <td>49938.64</td>\n",
       "      <td>141148.87</td>\n",
       "      <td>122576.65</td>\n",
       "      <td>98639.12</td>\n",
       "      <td>71398.0</td>\n",
       "      <td>17.6</td>\n",
       "      <td>16931.0</td>\n",
       "      <td>8.7</td>\n",
       "    </tr>\n",
       "  </tbody>\n",
       "</table>\n",
       "</div>"
      ],
      "text/plain": [
       "   Unnamed: 0  Year  countycode State                county  population  \\\n",
       "0           1  2020        1003    AL    Baldwin County, AL      229287   \n",
       "1          27  2020        1055    AL     Etowah County, AL      102371   \n",
       "2          36  2020        1073    AL  Jefferson County, AL      655342   \n",
       "3          44  2020        1089    AL    Madison County, AL      379453   \n",
       "4          48  2020        1097    AL     Mobile County, AL      412716   \n",
       "\n",
       "   deaths  cruderate  DispenseRate  PersonalIncome  PerCapitaPersonalIncome  \\\n",
       "0      41       17.9          65.0         51348.0                 233140.0   \n",
       "1      13       12.7         102.8         39795.0                 103393.0   \n",
       "2     227       34.6         139.0         58053.0                 673341.0   \n",
       "3      68       17.9          87.3         56499.0                 389696.0   \n",
       "4      46       11.1          98.0         42837.0                 414250.0   \n",
       "\n",
       "   LessThanHS  HSDiplomaOnly  SomeCollege  BachelorOrHigher  PovertyPop  \\\n",
       "0    20635.83       62824.64     71537.54          74518.28     20189.0   \n",
       "1    14127.20       34601.40     35215.62          18426.78     15650.0   \n",
       "2    58980.78      173010.29    195947.26         227403.67     92310.0   \n",
       "3    30356.24       72854.98    108144.11         168097.68     39100.0   \n",
       "4    49938.64      141148.87    122576.65          98639.12     71398.0   \n",
       "\n",
       "   PovertyRate  UnemployedPop  UnemployedRate  \n",
       "0          8.9         6159.0             6.2  \n",
       "1         15.6         3505.0             8.5  \n",
       "2         14.4        21947.0             6.9  \n",
       "3         10.5         9761.0             5.1  \n",
       "4         17.6        16931.0             8.7  "
      ]
     },
     "execution_count": 2,
     "metadata": {},
     "output_type": "execute_result"
    }
   ],
   "source": [
    "df = pd.read_csv('../Resources_Tables/FINAL_opioid_data_NOSUPPRESSED.csv')\n",
    "df.head()"
   ]
  },
  {
   "cell_type": "code",
   "execution_count": 3,
   "id": "316cac34",
   "metadata": {},
   "outputs": [
    {
     "data": {
      "text/plain": [
       "(3056, 19)"
      ]
     },
     "execution_count": 3,
     "metadata": {},
     "output_type": "execute_result"
    }
   ],
   "source": [
    "df.shape"
   ]
  },
  {
   "cell_type": "code",
   "execution_count": 4,
   "id": "1b1a4faa",
   "metadata": {},
   "outputs": [
    {
     "name": "stdout",
     "output_type": "stream",
     "text": [
      "<class 'pandas.core.frame.DataFrame'>\n",
      "RangeIndex: 3056 entries, 0 to 3055\n",
      "Data columns (total 19 columns):\n",
      " #   Column                   Non-Null Count  Dtype  \n",
      "---  ------                   --------------  -----  \n",
      " 0   Unnamed: 0               3056 non-null   int64  \n",
      " 1   Year                     3056 non-null   int64  \n",
      " 2   countycode               3056 non-null   int64  \n",
      " 3   State                    3056 non-null   object \n",
      " 4   county                   3056 non-null   object \n",
      " 5   population               3056 non-null   int64  \n",
      " 6   deaths                   3056 non-null   int64  \n",
      " 7   cruderate                3056 non-null   float64\n",
      " 8   DispenseRate             3056 non-null   float64\n",
      " 9   PersonalIncome           3056 non-null   float64\n",
      " 10  PerCapitaPersonalIncome  3056 non-null   float64\n",
      " 11  LessThanHS               3056 non-null   float64\n",
      " 12  HSDiplomaOnly            3056 non-null   float64\n",
      " 13  SomeCollege              3056 non-null   float64\n",
      " 14  BachelorOrHigher         3056 non-null   float64\n",
      " 15  PovertyPop               3056 non-null   float64\n",
      " 16  PovertyRate              3056 non-null   float64\n",
      " 17  UnemployedPop            3056 non-null   float64\n",
      " 18  UnemployedRate           3056 non-null   float64\n",
      "dtypes: float64(12), int64(5), object(2)\n",
      "memory usage: 453.8+ KB\n"
     ]
    }
   ],
   "source": [
    "df.info()"
   ]
  },
  {
   "cell_type": "code",
   "execution_count": 5,
   "id": "82485223",
   "metadata": {},
   "outputs": [
    {
     "data": {
      "text/html": [
       "<div>\n",
       "<style scoped>\n",
       "    .dataframe tbody tr th:only-of-type {\n",
       "        vertical-align: middle;\n",
       "    }\n",
       "\n",
       "    .dataframe tbody tr th {\n",
       "        vertical-align: top;\n",
       "    }\n",
       "\n",
       "    .dataframe thead th {\n",
       "        text-align: right;\n",
       "    }\n",
       "</style>\n",
       "<table border=\"1\" class=\"dataframe\">\n",
       "  <thead>\n",
       "    <tr style=\"text-align: right;\">\n",
       "      <th></th>\n",
       "      <th>Unnamed: 0</th>\n",
       "      <th>Year</th>\n",
       "      <th>countycode</th>\n",
       "      <th>population</th>\n",
       "      <th>deaths</th>\n",
       "      <th>cruderate</th>\n",
       "      <th>DispenseRate</th>\n",
       "      <th>PersonalIncome</th>\n",
       "      <th>PerCapitaPersonalIncome</th>\n",
       "      <th>LessThanHS</th>\n",
       "      <th>HSDiplomaOnly</th>\n",
       "      <th>SomeCollege</th>\n",
       "      <th>BachelorOrHigher</th>\n",
       "      <th>PovertyPop</th>\n",
       "      <th>PovertyRate</th>\n",
       "      <th>UnemployedPop</th>\n",
       "      <th>UnemployedRate</th>\n",
       "    </tr>\n",
       "  </thead>\n",
       "  <tbody>\n",
       "    <tr>\n",
       "      <th>count</th>\n",
       "      <td>3056.000000</td>\n",
       "      <td>3056.000000</td>\n",
       "      <td>3056.000000</td>\n",
       "      <td>3.056000e+03</td>\n",
       "      <td>3056.000000</td>\n",
       "      <td>3056.000000</td>\n",
       "      <td>3056.000000</td>\n",
       "      <td>3056.000000</td>\n",
       "      <td>3.056000e+03</td>\n",
       "      <td>3.056000e+03</td>\n",
       "      <td>3.056000e+03</td>\n",
       "      <td>3.056000e+03</td>\n",
       "      <td>3.056000e+03</td>\n",
       "      <td>3.056000e+03</td>\n",
       "      <td>3056.000000</td>\n",
       "      <td>3056.000000</td>\n",
       "      <td>3056.000000</td>\n",
       "    </tr>\n",
       "    <tr>\n",
       "      <th>mean</th>\n",
       "      <td>6021.737893</td>\n",
       "      <td>2018.591623</td>\n",
       "      <td>31097.349149</td>\n",
       "      <td>3.408165e+05</td>\n",
       "      <td>62.946335</td>\n",
       "      <td>23.899794</td>\n",
       "      <td>56.842310</td>\n",
       "      <td>50788.120092</td>\n",
       "      <td>3.429600e+05</td>\n",
       "      <td>3.049779e+04</td>\n",
       "      <td>7.098837e+04</td>\n",
       "      <td>7.998881e+04</td>\n",
       "      <td>9.736087e+04</td>\n",
       "      <td>3.360060e+04</td>\n",
       "      <td>11.864758</td>\n",
       "      <td>8661.920812</td>\n",
       "      <td>5.161060</td>\n",
       "    </tr>\n",
       "    <tr>\n",
       "      <th>std</th>\n",
       "      <td>3701.518649</td>\n",
       "      <td>1.144309</td>\n",
       "      <td>14950.420083</td>\n",
       "      <td>6.136721e+05</td>\n",
       "      <td>105.152109</td>\n",
       "      <td>16.358298</td>\n",
       "      <td>27.044108</td>\n",
       "      <td>14422.240471</td>\n",
       "      <td>6.158122e+05</td>\n",
       "      <td>9.192114e+04</td>\n",
       "      <td>1.335366e+05</td>\n",
       "      <td>1.596732e+05</td>\n",
       "      <td>2.152512e+05</td>\n",
       "      <td>7.342898e+04</td>\n",
       "      <td>4.289997</td>\n",
       "      <td>19995.013626</td>\n",
       "      <td>2.196863</td>\n",
       "    </tr>\n",
       "    <tr>\n",
       "      <th>min</th>\n",
       "      <td>1.000000</td>\n",
       "      <td>2017.000000</td>\n",
       "      <td>1003.000000</td>\n",
       "      <td>1.244400e+04</td>\n",
       "      <td>10.000000</td>\n",
       "      <td>1.150000</td>\n",
       "      <td>2.000000</td>\n",
       "      <td>26433.000000</td>\n",
       "      <td>1.191500e+04</td>\n",
       "      <td>1.714000e+01</td>\n",
       "      <td>4.026000e+01</td>\n",
       "      <td>6.746000e+01</td>\n",
       "      <td>1.065400e+02</td>\n",
       "      <td>2.200000e+01</td>\n",
       "      <td>3.000000</td>\n",
       "      <td>278.000000</td>\n",
       "      <td>1.800000</td>\n",
       "    </tr>\n",
       "    <tr>\n",
       "      <th>25%</th>\n",
       "      <td>2529.500000</td>\n",
       "      <td>2018.000000</td>\n",
       "      <td>18084.000000</td>\n",
       "      <td>7.889125e+04</td>\n",
       "      <td>15.000000</td>\n",
       "      <td>12.600000</td>\n",
       "      <td>37.675000</td>\n",
       "      <td>41824.250000</td>\n",
       "      <td>7.983275e+04</td>\n",
       "      <td>3.630713e+03</td>\n",
       "      <td>1.147191e+04</td>\n",
       "      <td>1.015075e+04</td>\n",
       "      <td>8.531550e+03</td>\n",
       "      <td>5.272750e+03</td>\n",
       "      <td>8.800000</td>\n",
       "      <td>1805.000000</td>\n",
       "      <td>3.600000</td>\n",
       "    </tr>\n",
       "    <tr>\n",
       "      <th>50%</th>\n",
       "      <td>5819.000000</td>\n",
       "      <td>2019.000000</td>\n",
       "      <td>35043.000000</td>\n",
       "      <td>1.621060e+05</td>\n",
       "      <td>28.000000</td>\n",
       "      <td>20.200000</td>\n",
       "      <td>53.150000</td>\n",
       "      <td>47395.000000</td>\n",
       "      <td>1.619445e+05</td>\n",
       "      <td>9.992550e+03</td>\n",
       "      <td>3.455596e+04</td>\n",
       "      <td>3.454982e+04</td>\n",
       "      <td>3.020598e+04</td>\n",
       "      <td>1.377100e+04</td>\n",
       "      <td>11.400000</td>\n",
       "      <td>3579.500000</td>\n",
       "      <td>4.500000</td>\n",
       "    </tr>\n",
       "    <tr>\n",
       "      <th>75%</th>\n",
       "      <td>9266.500000</td>\n",
       "      <td>2020.000000</td>\n",
       "      <td>42077.000000</td>\n",
       "      <td>3.622722e+05</td>\n",
       "      <td>63.000000</td>\n",
       "      <td>30.900000</td>\n",
       "      <td>70.800000</td>\n",
       "      <td>55353.250000</td>\n",
       "      <td>3.626548e+05</td>\n",
       "      <td>2.494970e+04</td>\n",
       "      <td>7.290124e+04</td>\n",
       "      <td>8.297292e+04</td>\n",
       "      <td>9.349677e+04</td>\n",
       "      <td>3.447800e+04</td>\n",
       "      <td>14.400000</td>\n",
       "      <td>8308.000000</td>\n",
       "      <td>6.300000</td>\n",
       "    </tr>\n",
       "    <tr>\n",
       "      <th>max</th>\n",
       "      <td>12543.000000</td>\n",
       "      <td>2020.000000</td>\n",
       "      <td>56037.000000</td>\n",
       "      <td>1.016351e+07</td>\n",
       "      <td>1697.000000</td>\n",
       "      <td>165.500000</td>\n",
       "      <td>316.500000</td>\n",
       "      <td>176343.000000</td>\n",
       "      <td>1.012352e+07</td>\n",
       "      <td>2.032701e+06</td>\n",
       "      <td>2.073355e+06</td>\n",
       "      <td>2.601858e+06</td>\n",
       "      <td>3.455592e+06</td>\n",
       "      <td>1.312482e+06</td>\n",
       "      <td>32.400000</td>\n",
       "      <td>612986.000000</td>\n",
       "      <td>22.800000</td>\n",
       "    </tr>\n",
       "  </tbody>\n",
       "</table>\n",
       "</div>"
      ],
      "text/plain": [
       "         Unnamed: 0         Year    countycode    population       deaths  \\\n",
       "count   3056.000000  3056.000000   3056.000000  3.056000e+03  3056.000000   \n",
       "mean    6021.737893  2018.591623  31097.349149  3.408165e+05    62.946335   \n",
       "std     3701.518649     1.144309  14950.420083  6.136721e+05   105.152109   \n",
       "min        1.000000  2017.000000   1003.000000  1.244400e+04    10.000000   \n",
       "25%     2529.500000  2018.000000  18084.000000  7.889125e+04    15.000000   \n",
       "50%     5819.000000  2019.000000  35043.000000  1.621060e+05    28.000000   \n",
       "75%     9266.500000  2020.000000  42077.000000  3.622722e+05    63.000000   \n",
       "max    12543.000000  2020.000000  56037.000000  1.016351e+07  1697.000000   \n",
       "\n",
       "         cruderate  DispenseRate  PersonalIncome  PerCapitaPersonalIncome  \\\n",
       "count  3056.000000   3056.000000     3056.000000             3.056000e+03   \n",
       "mean     23.899794     56.842310    50788.120092             3.429600e+05   \n",
       "std      16.358298     27.044108    14422.240471             6.158122e+05   \n",
       "min       1.150000      2.000000    26433.000000             1.191500e+04   \n",
       "25%      12.600000     37.675000    41824.250000             7.983275e+04   \n",
       "50%      20.200000     53.150000    47395.000000             1.619445e+05   \n",
       "75%      30.900000     70.800000    55353.250000             3.626548e+05   \n",
       "max     165.500000    316.500000   176343.000000             1.012352e+07   \n",
       "\n",
       "         LessThanHS  HSDiplomaOnly   SomeCollege  BachelorOrHigher  \\\n",
       "count  3.056000e+03   3.056000e+03  3.056000e+03      3.056000e+03   \n",
       "mean   3.049779e+04   7.098837e+04  7.998881e+04      9.736087e+04   \n",
       "std    9.192114e+04   1.335366e+05  1.596732e+05      2.152512e+05   \n",
       "min    1.714000e+01   4.026000e+01  6.746000e+01      1.065400e+02   \n",
       "25%    3.630713e+03   1.147191e+04  1.015075e+04      8.531550e+03   \n",
       "50%    9.992550e+03   3.455596e+04  3.454982e+04      3.020598e+04   \n",
       "75%    2.494970e+04   7.290124e+04  8.297292e+04      9.349677e+04   \n",
       "max    2.032701e+06   2.073355e+06  2.601858e+06      3.455592e+06   \n",
       "\n",
       "         PovertyPop  PovertyRate  UnemployedPop  UnemployedRate  \n",
       "count  3.056000e+03  3056.000000    3056.000000     3056.000000  \n",
       "mean   3.360060e+04    11.864758    8661.920812        5.161060  \n",
       "std    7.342898e+04     4.289997   19995.013626        2.196863  \n",
       "min    2.200000e+01     3.000000     278.000000        1.800000  \n",
       "25%    5.272750e+03     8.800000    1805.000000        3.600000  \n",
       "50%    1.377100e+04    11.400000    3579.500000        4.500000  \n",
       "75%    3.447800e+04    14.400000    8308.000000        6.300000  \n",
       "max    1.312482e+06    32.400000  612986.000000       22.800000  "
      ]
     },
     "execution_count": 5,
     "metadata": {},
     "output_type": "execute_result"
    }
   ],
   "source": [
    "##Creating summary statistics to identify top 25% crude rate\n",
    "df.describe()"
   ]
  },
  {
   "cell_type": "code",
   "execution_count": 6,
   "id": "46b1198a",
   "metadata": {},
   "outputs": [],
   "source": [
    "#create box and whiskers plot for the crude rate\n",
    "#plt.boxplot(df.cruderate)\n",
    "#Q1 = df.cruderate.quantile(0.25)\n",
    "#Q3 = df.cruderate.quantile(0.75)\n",
    "#IQR = Q3 - Q1\n",
    "#df = df[(df.cruderate >= Q1 - 1.5*IQR) & (df.cruderate <= Q3 + 1.5*IQR)]"
   ]
  },
  {
   "cell_type": "code",
   "execution_count": 7,
   "id": "bce6dcd0",
   "metadata": {
    "scrolled": true
   },
   "outputs": [
    {
     "data": {
      "text/plain": [
       "count    3056.000000\n",
       "mean       23.899794\n",
       "std        16.358298\n",
       "min         1.150000\n",
       "25%        12.600000\n",
       "50%        20.200000\n",
       "75%        30.900000\n",
       "max       165.500000\n",
       "Name: cruderate, dtype: float64"
      ]
     },
     "execution_count": 7,
     "metadata": {},
     "output_type": "execute_result"
    }
   ],
   "source": [
    "#summary statistics for crude rate across all years and all counties\n",
    "df['cruderate'].describe()"
   ]
  },
  {
   "cell_type": "code",
   "execution_count": 8,
   "id": "f18e168f",
   "metadata": {},
   "outputs": [
    {
     "data": {
      "text/html": [
       "<div>\n",
       "<style scoped>\n",
       "    .dataframe tbody tr th:only-of-type {\n",
       "        vertical-align: middle;\n",
       "    }\n",
       "\n",
       "    .dataframe tbody tr th {\n",
       "        vertical-align: top;\n",
       "    }\n",
       "\n",
       "    .dataframe thead th {\n",
       "        text-align: right;\n",
       "    }\n",
       "</style>\n",
       "<table border=\"1\" class=\"dataframe\">\n",
       "  <thead>\n",
       "    <tr style=\"text-align: right;\">\n",
       "      <th></th>\n",
       "      <th>Unnamed: 0</th>\n",
       "      <th>Year</th>\n",
       "      <th>countycode</th>\n",
       "      <th>State</th>\n",
       "      <th>county</th>\n",
       "      <th>population</th>\n",
       "      <th>deaths</th>\n",
       "      <th>cruderate</th>\n",
       "      <th>DispenseRate</th>\n",
       "      <th>PersonalIncome</th>\n",
       "      <th>PerCapitaPersonalIncome</th>\n",
       "      <th>LessThanHS</th>\n",
       "      <th>HSDiplomaOnly</th>\n",
       "      <th>SomeCollege</th>\n",
       "      <th>BachelorOrHigher</th>\n",
       "      <th>PovertyPop</th>\n",
       "      <th>PovertyRate</th>\n",
       "      <th>UnemployedPop</th>\n",
       "      <th>UnemployedRate</th>\n",
       "      <th>class</th>\n",
       "    </tr>\n",
       "  </thead>\n",
       "  <tbody>\n",
       "    <tr>\n",
       "      <th>0</th>\n",
       "      <td>1</td>\n",
       "      <td>2020</td>\n",
       "      <td>1003</td>\n",
       "      <td>AL</td>\n",
       "      <td>Baldwin County, AL</td>\n",
       "      <td>229287</td>\n",
       "      <td>41</td>\n",
       "      <td>17.9</td>\n",
       "      <td>65.0</td>\n",
       "      <td>51348.0</td>\n",
       "      <td>233140.0</td>\n",
       "      <td>20635.83</td>\n",
       "      <td>62824.64</td>\n",
       "      <td>71537.54</td>\n",
       "      <td>74518.28</td>\n",
       "      <td>20189.0</td>\n",
       "      <td>8.9</td>\n",
       "      <td>6159.0</td>\n",
       "      <td>6.2</td>\n",
       "      <td>0</td>\n",
       "    </tr>\n",
       "    <tr>\n",
       "      <th>1</th>\n",
       "      <td>27</td>\n",
       "      <td>2020</td>\n",
       "      <td>1055</td>\n",
       "      <td>AL</td>\n",
       "      <td>Etowah County, AL</td>\n",
       "      <td>102371</td>\n",
       "      <td>13</td>\n",
       "      <td>12.7</td>\n",
       "      <td>102.8</td>\n",
       "      <td>39795.0</td>\n",
       "      <td>103393.0</td>\n",
       "      <td>14127.20</td>\n",
       "      <td>34601.40</td>\n",
       "      <td>35215.62</td>\n",
       "      <td>18426.78</td>\n",
       "      <td>15650.0</td>\n",
       "      <td>15.6</td>\n",
       "      <td>3505.0</td>\n",
       "      <td>8.5</td>\n",
       "      <td>0</td>\n",
       "    </tr>\n",
       "    <tr>\n",
       "      <th>2</th>\n",
       "      <td>36</td>\n",
       "      <td>2020</td>\n",
       "      <td>1073</td>\n",
       "      <td>AL</td>\n",
       "      <td>Jefferson County, AL</td>\n",
       "      <td>655342</td>\n",
       "      <td>227</td>\n",
       "      <td>34.6</td>\n",
       "      <td>139.0</td>\n",
       "      <td>58053.0</td>\n",
       "      <td>673341.0</td>\n",
       "      <td>58980.78</td>\n",
       "      <td>173010.29</td>\n",
       "      <td>195947.26</td>\n",
       "      <td>227403.67</td>\n",
       "      <td>92310.0</td>\n",
       "      <td>14.4</td>\n",
       "      <td>21947.0</td>\n",
       "      <td>6.9</td>\n",
       "      <td>1</td>\n",
       "    </tr>\n",
       "    <tr>\n",
       "      <th>3</th>\n",
       "      <td>44</td>\n",
       "      <td>2020</td>\n",
       "      <td>1089</td>\n",
       "      <td>AL</td>\n",
       "      <td>Madison County, AL</td>\n",
       "      <td>379453</td>\n",
       "      <td>68</td>\n",
       "      <td>17.9</td>\n",
       "      <td>87.3</td>\n",
       "      <td>56499.0</td>\n",
       "      <td>389696.0</td>\n",
       "      <td>30356.24</td>\n",
       "      <td>72854.98</td>\n",
       "      <td>108144.11</td>\n",
       "      <td>168097.68</td>\n",
       "      <td>39100.0</td>\n",
       "      <td>10.5</td>\n",
       "      <td>9761.0</td>\n",
       "      <td>5.1</td>\n",
       "      <td>0</td>\n",
       "    </tr>\n",
       "    <tr>\n",
       "      <th>4</th>\n",
       "      <td>48</td>\n",
       "      <td>2020</td>\n",
       "      <td>1097</td>\n",
       "      <td>AL</td>\n",
       "      <td>Mobile County, AL</td>\n",
       "      <td>412716</td>\n",
       "      <td>46</td>\n",
       "      <td>11.1</td>\n",
       "      <td>98.0</td>\n",
       "      <td>42837.0</td>\n",
       "      <td>414250.0</td>\n",
       "      <td>49938.64</td>\n",
       "      <td>141148.87</td>\n",
       "      <td>122576.65</td>\n",
       "      <td>98639.12</td>\n",
       "      <td>71398.0</td>\n",
       "      <td>17.6</td>\n",
       "      <td>16931.0</td>\n",
       "      <td>8.7</td>\n",
       "      <td>0</td>\n",
       "    </tr>\n",
       "  </tbody>\n",
       "</table>\n",
       "</div>"
      ],
      "text/plain": [
       "   Unnamed: 0  Year  countycode State                county  population  \\\n",
       "0           1  2020        1003    AL    Baldwin County, AL      229287   \n",
       "1          27  2020        1055    AL     Etowah County, AL      102371   \n",
       "2          36  2020        1073    AL  Jefferson County, AL      655342   \n",
       "3          44  2020        1089    AL    Madison County, AL      379453   \n",
       "4          48  2020        1097    AL     Mobile County, AL      412716   \n",
       "\n",
       "   deaths  cruderate  DispenseRate  PersonalIncome  PerCapitaPersonalIncome  \\\n",
       "0      41       17.9          65.0         51348.0                 233140.0   \n",
       "1      13       12.7         102.8         39795.0                 103393.0   \n",
       "2     227       34.6         139.0         58053.0                 673341.0   \n",
       "3      68       17.9          87.3         56499.0                 389696.0   \n",
       "4      46       11.1          98.0         42837.0                 414250.0   \n",
       "\n",
       "   LessThanHS  HSDiplomaOnly  SomeCollege  BachelorOrHigher  PovertyPop  \\\n",
       "0    20635.83       62824.64     71537.54          74518.28     20189.0   \n",
       "1    14127.20       34601.40     35215.62          18426.78     15650.0   \n",
       "2    58980.78      173010.29    195947.26         227403.67     92310.0   \n",
       "3    30356.24       72854.98    108144.11         168097.68     39100.0   \n",
       "4    49938.64      141148.87    122576.65          98639.12     71398.0   \n",
       "\n",
       "   PovertyRate  UnemployedPop  UnemployedRate  class  \n",
       "0          8.9         6159.0             6.2      0  \n",
       "1         15.6         3505.0             8.5      0  \n",
       "2         14.4        21947.0             6.9      1  \n",
       "3         10.5         9761.0             5.1      0  \n",
       "4         17.6        16931.0             8.7      0  "
      ]
     },
     "execution_count": 8,
     "metadata": {},
     "output_type": "execute_result"
    }
   ],
   "source": [
    "#create a new column which will identify \"high\" as 1 and \"low\" as 0 for cruderate. This will be used in the models\n",
    "df[\"class\"] = np.where(df[\"cruderate\"] > 30.9, 1, 0)\n",
    "df.head()"
   ]
  },
  {
   "cell_type": "code",
   "execution_count": 9,
   "id": "38f0b503",
   "metadata": {},
   "outputs": [
    {
     "name": "stderr",
     "output_type": "stream",
     "text": [
      "C:\\Users\\olgao\\anaconda3\\envs\\mlenv\\lib\\site-packages\\seaborn\\_decorators.py:43: FutureWarning: Pass the following variables as keyword args: x, y. From version 0.12, the only valid positional argument will be `data`, and passing other arguments without an explicit keyword will result in an error or misinterpretation.\n",
      "  FutureWarning\n"
     ]
    },
    {
     "data": {
      "text/plain": [
       "<AxesSubplot:xlabel='Year', ylabel='deaths'>"
      ]
     },
     "execution_count": 9,
     "metadata": {},
     "output_type": "execute_result"
    },
    {
     "data": {
      "image/png": "[encoded data removed]",
      "text/plain": [
       "<Figure size 640x480 with 1 Axes>"
      ]
     },
     "metadata": {},
     "output_type": "display_data"
    }
   ],
   "source": [
    "import seaborn as sns\n",
    "sns.barplot(df[\"Year\"], df[\"deaths\"])"
   ]
  },
  {
   "cell_type": "code",
   "execution_count": 11,
   "id": "9042d404",
   "metadata": {},
   "outputs": [
    {
     "data": {
      "text/html": [
       "<div>\n",
       "<style scoped>\n",
       "    .dataframe tbody tr th:only-of-type {\n",
       "        vertical-align: middle;\n",
       "    }\n",
       "\n",
       "    .dataframe tbody tr th {\n",
       "        vertical-align: top;\n",
       "    }\n",
       "\n",
       "    .dataframe thead th {\n",
       "        text-align: right;\n",
       "    }\n",
       "</style>\n",
       "<table border=\"1\" class=\"dataframe\">\n",
       "  <thead>\n",
       "    <tr style=\"text-align: right;\">\n",
       "      <th></th>\n",
       "      <th>population</th>\n",
       "      <th>DispenseRate</th>\n",
       "      <th>PersonalIncome</th>\n",
       "      <th>PerCapitaPersonalIncome</th>\n",
       "      <th>LessThanHS</th>\n",
       "      <th>HSDiplomaOnly</th>\n",
       "      <th>SomeCollege</th>\n",
       "      <th>BachelorOrHigher</th>\n",
       "      <th>PovertyRate</th>\n",
       "      <th>UnemployedRate</th>\n",
       "    </tr>\n",
       "  </thead>\n",
       "  <tbody>\n",
       "    <tr>\n",
       "      <th>0</th>\n",
       "      <td>229287</td>\n",
       "      <td>65.0</td>\n",
       "      <td>51348.0</td>\n",
       "      <td>233140.0</td>\n",
       "      <td>20635.83</td>\n",
       "      <td>62824.64</td>\n",
       "      <td>71537.54</td>\n",
       "      <td>74518.28</td>\n",
       "      <td>8.9</td>\n",
       "      <td>6.2</td>\n",
       "    </tr>\n",
       "    <tr>\n",
       "      <th>1</th>\n",
       "      <td>102371</td>\n",
       "      <td>102.8</td>\n",
       "      <td>39795.0</td>\n",
       "      <td>103393.0</td>\n",
       "      <td>14127.20</td>\n",
       "      <td>34601.40</td>\n",
       "      <td>35215.62</td>\n",
       "      <td>18426.78</td>\n",
       "      <td>15.6</td>\n",
       "      <td>8.5</td>\n",
       "    </tr>\n",
       "    <tr>\n",
       "      <th>2</th>\n",
       "      <td>655342</td>\n",
       "      <td>139.0</td>\n",
       "      <td>58053.0</td>\n",
       "      <td>673341.0</td>\n",
       "      <td>58980.78</td>\n",
       "      <td>173010.29</td>\n",
       "      <td>195947.26</td>\n",
       "      <td>227403.67</td>\n",
       "      <td>14.4</td>\n",
       "      <td>6.9</td>\n",
       "    </tr>\n",
       "    <tr>\n",
       "      <th>3</th>\n",
       "      <td>379453</td>\n",
       "      <td>87.3</td>\n",
       "      <td>56499.0</td>\n",
       "      <td>389696.0</td>\n",
       "      <td>30356.24</td>\n",
       "      <td>72854.98</td>\n",
       "      <td>108144.11</td>\n",
       "      <td>168097.68</td>\n",
       "      <td>10.5</td>\n",
       "      <td>5.1</td>\n",
       "    </tr>\n",
       "    <tr>\n",
       "      <th>4</th>\n",
       "      <td>412716</td>\n",
       "      <td>98.0</td>\n",
       "      <td>42837.0</td>\n",
       "      <td>414250.0</td>\n",
       "      <td>49938.64</td>\n",
       "      <td>141148.87</td>\n",
       "      <td>122576.65</td>\n",
       "      <td>98639.12</td>\n",
       "      <td>17.6</td>\n",
       "      <td>8.7</td>\n",
       "    </tr>\n",
       "  </tbody>\n",
       "</table>\n",
       "</div>"
      ],
      "text/plain": [
       "   population  DispenseRate  PersonalIncome  PerCapitaPersonalIncome  \\\n",
       "0      229287          65.0         51348.0                 233140.0   \n",
       "1      102371         102.8         39795.0                 103393.0   \n",
       "2      655342         139.0         58053.0                 673341.0   \n",
       "3      379453          87.3         56499.0                 389696.0   \n",
       "4      412716          98.0         42837.0                 414250.0   \n",
       "\n",
       "   LessThanHS  HSDiplomaOnly  SomeCollege  BachelorOrHigher  PovertyRate  \\\n",
       "0    20635.83       62824.64     71537.54          74518.28          8.9   \n",
       "1    14127.20       34601.40     35215.62          18426.78         15.6   \n",
       "2    58980.78      173010.29    195947.26         227403.67         14.4   \n",
       "3    30356.24       72854.98    108144.11         168097.68         10.5   \n",
       "4    49938.64      141148.87    122576.65          98639.12         17.6   \n",
       "\n",
       "   UnemployedRate  \n",
       "0             6.2  \n",
       "1             8.5  \n",
       "2             6.9  \n",
       "3             5.1  \n",
       "4             8.7  "
      ]
     },
     "execution_count": 11,
     "metadata": {},
     "output_type": "execute_result"
    }
   ],
   "source": [
    "#logistic Regression Model\n",
    "#assign X and y and split into train and test data\n",
    "y = df[\"class\"]\n",
    "X = df.drop(columns=['class', 'cruderate','Unnamed: 0', 'deaths', 'Year', 'countycode', 'State', 'county', 'UnemployedPop', 'PovertyPop'])\n",
    "from sklearn.model_selection import train_test_split\n",
    "X_train, X_test, y_train, y_test = train_test_split(X,\n",
    "   y, random_state=1, stratify=y)\n",
    "X.head()"
   ]
  },
  {
   "cell_type": "code",
   "execution_count": 12,
   "id": "6b520b5e",
   "metadata": {},
   "outputs": [],
   "source": [
    "#create a logistic regression model\n",
    "from sklearn.linear_model import LogisticRegression\n",
    "classifier = LogisticRegression(solver='lbfgs',\n",
    "   max_iter=200,\n",
    "   random_state=1)"
   ]
  },
  {
   "cell_type": "code",
   "execution_count": 13,
   "id": "031d8866",
   "metadata": {},
   "outputs": [
    {
     "data": {
      "text/plain": [
       "LogisticRegression(max_iter=200, random_state=1)"
      ]
     },
     "execution_count": 13,
     "metadata": {},
     "output_type": "execute_result"
    }
   ],
   "source": [
    "#train the model\n",
    "classifier.fit(X_train, y_train)"
   ]
  },
  {
   "cell_type": "code",
   "execution_count": 14,
   "id": "82eb5b4b",
   "metadata": {},
   "outputs": [],
   "source": [
    "#using the testing set, create predictions\n",
    "y_pred = classifier.predict(X_test)"
   ]
  },
  {
   "cell_type": "code",
   "execution_count": 15,
   "id": "0d96d3e1",
   "metadata": {},
   "outputs": [
    {
     "name": "stdout",
     "output_type": "stream",
     "text": [
      "Accuracy Score: 0.7473821989528796\n"
     ]
    }
   ],
   "source": [
    "#accuracy score for Logistic Regression Model\n",
    "from sklearn.metrics import accuracy_score\n",
    "print(f\"Accuracy Score: {accuracy_score(y_test, y_pred)}\")"
   ]
  },
  {
   "cell_type": "code",
   "execution_count": 16,
   "id": "a6de646f",
   "metadata": {},
   "outputs": [
    {
     "name": "stdout",
     "output_type": "stream",
     "text": [
      "[[568   5]\n",
      " [188   3]]\n"
     ]
    }
   ],
   "source": [
    "#confusion_matrix Logistic Regression\n",
    "from sklearn.metrics import confusion_matrix, classification_report\n",
    "matrix = confusion_matrix(y_test, y_pred)\n",
    "print(matrix)"
   ]
  },
  {
   "cell_type": "code",
   "execution_count": 17,
   "id": "a94fc843",
   "metadata": {},
   "outputs": [
    {
     "name": "stdout",
     "output_type": "stream",
     "text": [
      "Confusion Matrix\n"
     ]
    },
    {
     "data": {
      "text/html": [
       "<div>\n",
       "<style scoped>\n",
       "    .dataframe tbody tr th:only-of-type {\n",
       "        vertical-align: middle;\n",
       "    }\n",
       "\n",
       "    .dataframe tbody tr th {\n",
       "        vertical-align: top;\n",
       "    }\n",
       "\n",
       "    .dataframe thead th {\n",
       "        text-align: right;\n",
       "    }\n",
       "</style>\n",
       "<table border=\"1\" class=\"dataframe\">\n",
       "  <thead>\n",
       "    <tr style=\"text-align: right;\">\n",
       "      <th></th>\n",
       "      <th>Predicted 0</th>\n",
       "      <th>Predicted 1</th>\n",
       "    </tr>\n",
       "  </thead>\n",
       "  <tbody>\n",
       "    <tr>\n",
       "      <th>Actual 0</th>\n",
       "      <td>568</td>\n",
       "      <td>5</td>\n",
       "    </tr>\n",
       "    <tr>\n",
       "      <th>Actual 1</th>\n",
       "      <td>188</td>\n",
       "      <td>3</td>\n",
       "    </tr>\n",
       "  </tbody>\n",
       "</table>\n",
       "</div>"
      ],
      "text/plain": [
       "          Predicted 0  Predicted 1\n",
       "Actual 0          568            5\n",
       "Actual 1          188            3"
      ]
     },
     "metadata": {},
     "output_type": "display_data"
    },
    {
     "name": "stdout",
     "output_type": "stream",
     "text": [
      "Accuracy Score: 0.7473821989528796\n",
      "Classification Report\n",
      "              precision    recall  f1-score   support\n",
      "\n",
      "           0       0.75      0.99      0.85       573\n",
      "           1       0.38      0.02      0.03       191\n",
      "\n",
      "    accuracy                           0.75       764\n",
      "   macro avg       0.56      0.50      0.44       764\n",
      "weighted avg       0.66      0.75      0.65       764\n",
      "\n"
     ]
    }
   ],
   "source": [
    "#classification report Logistic Regression\n",
    "report = classification_report(y_test, y_pred)\n",
    "\n",
    "# Display Results of the Model: \n",
    "# Confusion Matrix\n",
    "print(\"Confusion Matrix\")\n",
    "matrix_df = pd.DataFrame(\n",
    "    matrix, index=[\"Actual 0\", \"Actual 1\"], columns=[\"Predicted 0\", \"Predicted 1\"])\n",
    "display(matrix_df)\n",
    "\n",
    "print(f\"Accuracy Score: {accuracy_score(y_test, y_pred)}\")\n",
    "\n",
    "print('Classification Report')\n",
    "print(report)"
   ]
  },
  {
   "cell_type": "code",
   "execution_count": 18,
   "id": "5b576439",
   "metadata": {},
   "outputs": [
    {
     "data": {
      "text/plain": [
       "(2292, 10)"
      ]
     },
     "execution_count": 18,
     "metadata": {},
     "output_type": "execute_result"
    }
   ],
   "source": [
    "#SVM model\n",
    "y_svm = df[\"class\"]\n",
    "X_svm = df.drop(columns=['class', 'Unnamed: 0', 'cruderate' ,'deaths', 'Year', 'countycode', 'State', 'county', 'UnemployedPop', 'PovertyPop'])\n",
    "from sklearn.model_selection import train_test_split\n",
    "X_svm_train, X_svm_test, y_svm_train, y_svm_test = train_test_split(X_svm,\n",
    "   y_svm, random_state=1, stratify=y_svm)\n",
    "X_svm_train.shape"
   ]
  },
  {
   "cell_type": "code",
   "execution_count": 19,
   "id": "2cc87dfb",
   "metadata": {},
   "outputs": [],
   "source": [
    "#import the SVC module adn instantiate it\n",
    "from sklearn import svm\n",
    "model_svm = svm.SVC(kernel='rbf')\n",
    "\n"
   ]
  },
  {
   "cell_type": "code",
   "execution_count": 20,
   "id": "c581f44e",
   "metadata": {},
   "outputs": [
    {
     "data": {
      "text/plain": [
       "SVC()"
      ]
     },
     "execution_count": 20,
     "metadata": {},
     "output_type": "execute_result"
    }
   ],
   "source": [
    "#train the model\n",
    "model_svm.fit(X_svm_train, y_svm_train)\n"
   ]
  },
  {
   "cell_type": "code",
   "execution_count": 21,
   "id": "96d0ab1a",
   "metadata": {},
   "outputs": [
    {
     "data": {
      "text/html": [
       "<div>\n",
       "<style scoped>\n",
       "    .dataframe tbody tr th:only-of-type {\n",
       "        vertical-align: middle;\n",
       "    }\n",
       "\n",
       "    .dataframe tbody tr th {\n",
       "        vertical-align: top;\n",
       "    }\n",
       "\n",
       "    .dataframe thead th {\n",
       "        text-align: right;\n",
       "    }\n",
       "</style>\n",
       "<table border=\"1\" class=\"dataframe\">\n",
       "  <thead>\n",
       "    <tr style=\"text-align: right;\">\n",
       "      <th></th>\n",
       "      <th>Prediction</th>\n",
       "      <th>Actual</th>\n",
       "    </tr>\n",
       "  </thead>\n",
       "  <tbody>\n",
       "    <tr>\n",
       "      <th>0</th>\n",
       "      <td>0</td>\n",
       "      <td>0</td>\n",
       "    </tr>\n",
       "    <tr>\n",
       "      <th>1</th>\n",
       "      <td>0</td>\n",
       "      <td>1</td>\n",
       "    </tr>\n",
       "    <tr>\n",
       "      <th>2</th>\n",
       "      <td>0</td>\n",
       "      <td>0</td>\n",
       "    </tr>\n",
       "    <tr>\n",
       "      <th>3</th>\n",
       "      <td>0</td>\n",
       "      <td>0</td>\n",
       "    </tr>\n",
       "    <tr>\n",
       "      <th>4</th>\n",
       "      <td>0</td>\n",
       "      <td>0</td>\n",
       "    </tr>\n",
       "  </tbody>\n",
       "</table>\n",
       "</div>"
      ],
      "text/plain": [
       "   Prediction  Actual\n",
       "0           0       0\n",
       "1           0       1\n",
       "2           0       0\n",
       "3           0       0\n",
       "4           0       0"
      ]
     },
     "execution_count": 21,
     "metadata": {},
     "output_type": "execute_result"
    }
   ],
   "source": [
    "#predictions\n",
    "y_svm_pred = model_svm.predict(X_svm_test)\n",
    "results_svm = pd.DataFrame({\n",
    "   \"Prediction\": y_svm_pred,\n",
    "   \"Actual\": y_svm_test\n",
    "}).reset_index(drop=True)\n",
    "results_svm.head()"
   ]
  },
  {
   "cell_type": "code",
   "execution_count": 22,
   "id": "18ca0315",
   "metadata": {},
   "outputs": [
    {
     "data": {
      "text/plain": [
       "0.75"
      ]
     },
     "execution_count": 22,
     "metadata": {},
     "output_type": "execute_result"
    }
   ],
   "source": [
    "#accuracy score\n",
    "accuracy_score(y_svm_test, y_svm_pred)"
   ]
  },
  {
   "cell_type": "code",
   "execution_count": 23,
   "id": "c8a2998e",
   "metadata": {},
   "outputs": [
    {
     "data": {
      "text/plain": [
       "array([[573,   0],\n",
       "       [191,   0]], dtype=int64)"
      ]
     },
     "execution_count": 23,
     "metadata": {},
     "output_type": "execute_result"
    }
   ],
   "source": [
    "#confusion matrix SVM\n",
    "cm_svm = confusion_matrix(y_svm_test, y_svm_pred)\n",
    "cm_svm"
   ]
  },
  {
   "cell_type": "code",
   "execution_count": 24,
   "id": "39f21d23",
   "metadata": {},
   "outputs": [
    {
     "name": "stdout",
     "output_type": "stream",
     "text": [
      "              precision    recall  f1-score   support\n",
      "\n",
      "           0       0.75      1.00      0.86       573\n",
      "           1       0.00      0.00      0.00       191\n",
      "\n",
      "    accuracy                           0.75       764\n",
      "   macro avg       0.38      0.50      0.43       764\n",
      "weighted avg       0.56      0.75      0.64       764\n",
      "\n"
     ]
    },
    {
     "name": "stderr",
     "output_type": "stream",
     "text": [
      "C:\\Users\\olgao\\anaconda3\\envs\\mlenv\\lib\\site-packages\\sklearn\\metrics\\_classification.py:1318: UndefinedMetricWarning: Precision and F-score are ill-defined and being set to 0.0 in labels with no predicted samples. Use `zero_division` parameter to control this behavior.\n",
      "  _warn_prf(average, modifier, msg_start, len(result))\n",
      "C:\\Users\\olgao\\anaconda3\\envs\\mlenv\\lib\\site-packages\\sklearn\\metrics\\_classification.py:1318: UndefinedMetricWarning: Precision and F-score are ill-defined and being set to 0.0 in labels with no predicted samples. Use `zero_division` parameter to control this behavior.\n",
      "  _warn_prf(average, modifier, msg_start, len(result))\n",
      "C:\\Users\\olgao\\anaconda3\\envs\\mlenv\\lib\\site-packages\\sklearn\\metrics\\_classification.py:1318: UndefinedMetricWarning: Precision and F-score are ill-defined and being set to 0.0 in labels with no predicted samples. Use `zero_division` parameter to control this behavior.\n",
      "  _warn_prf(average, modifier, msg_start, len(result))\n"
     ]
    }
   ],
   "source": [
    "#classification  report\n",
    "print(classification_report(y_svm_test, y_svm_pred))"
   ]
  },
  {
   "cell_type": "code",
   "execution_count": 25,
   "id": "de8b04ec",
   "metadata": {},
   "outputs": [
    {
     "name": "stdout",
     "output_type": "stream",
     "text": [
      "Confusion Matrix\n"
     ]
    },
    {
     "data": {
      "text/html": [
       "<div>\n",
       "<style scoped>\n",
       "    .dataframe tbody tr th:only-of-type {\n",
       "        vertical-align: middle;\n",
       "    }\n",
       "\n",
       "    .dataframe tbody tr th {\n",
       "        vertical-align: top;\n",
       "    }\n",
       "\n",
       "    .dataframe thead th {\n",
       "        text-align: right;\n",
       "    }\n",
       "</style>\n",
       "<table border=\"1\" class=\"dataframe\">\n",
       "  <thead>\n",
       "    <tr style=\"text-align: right;\">\n",
       "      <th></th>\n",
       "      <th>Predicted 0</th>\n",
       "      <th>Predicted 1</th>\n",
       "    </tr>\n",
       "  </thead>\n",
       "  <tbody>\n",
       "    <tr>\n",
       "      <th>Actual 0</th>\n",
       "      <td>573</td>\n",
       "      <td>0</td>\n",
       "    </tr>\n",
       "    <tr>\n",
       "      <th>Actual 1</th>\n",
       "      <td>191</td>\n",
       "      <td>0</td>\n",
       "    </tr>\n",
       "  </tbody>\n",
       "</table>\n",
       "</div>"
      ],
      "text/plain": [
       "          Predicted 0  Predicted 1\n",
       "Actual 0          573            0\n",
       "Actual 1          191            0"
      ]
     },
     "metadata": {},
     "output_type": "display_data"
    },
    {
     "name": "stdout",
     "output_type": "stream",
     "text": [
      "Accuracy Score: 0.75\n",
      "Classification Report\n",
      "              precision    recall  f1-score   support\n",
      "\n",
      "           0       0.75      1.00      0.86       573\n",
      "           1       0.00      0.00      0.00       191\n",
      "\n",
      "    accuracy                           0.75       764\n",
      "   macro avg       0.38      0.50      0.43       764\n",
      "weighted avg       0.56      0.75      0.64       764\n",
      "\n"
     ]
    },
    {
     "name": "stderr",
     "output_type": "stream",
     "text": [
      "C:\\Users\\olgao\\anaconda3\\envs\\mlenv\\lib\\site-packages\\sklearn\\metrics\\_classification.py:1318: UndefinedMetricWarning: Precision and F-score are ill-defined and being set to 0.0 in labels with no predicted samples. Use `zero_division` parameter to control this behavior.\n",
      "  _warn_prf(average, modifier, msg_start, len(result))\n",
      "C:\\Users\\olgao\\anaconda3\\envs\\mlenv\\lib\\site-packages\\sklearn\\metrics\\_classification.py:1318: UndefinedMetricWarning: Precision and F-score are ill-defined and being set to 0.0 in labels with no predicted samples. Use `zero_division` parameter to control this behavior.\n",
      "  _warn_prf(average, modifier, msg_start, len(result))\n",
      "C:\\Users\\olgao\\anaconda3\\envs\\mlenv\\lib\\site-packages\\sklearn\\metrics\\_classification.py:1318: UndefinedMetricWarning: Precision and F-score are ill-defined and being set to 0.0 in labels with no predicted samples. Use `zero_division` parameter to control this behavior.\n",
      "  _warn_prf(average, modifier, msg_start, len(result))\n"
     ]
    }
   ],
   "source": [
    "#Display Results SVM\n",
    "\n",
    "# Display Results of the Model: \n",
    "# Confusion Matrix\n",
    "print(\"Confusion Matrix\")\n",
    "cm_svm_df = pd.DataFrame(\n",
    "    cm_svm, index=[\"Actual 0\", \"Actual 1\"], columns=[\"Predicted 0\", \"Predicted 1\"])\n",
    "display(cm_svm_df)\n",
    "\n",
    "print(f\"Accuracy Score: {accuracy_score(y_svm_test, y_svm_pred)}\")\n",
    "\n",
    "print('Classification Report')\n",
    "print(classification_report(y_svm_test, y_svm_pred))"
   ]
  },
  {
   "cell_type": "code",
   "execution_count": 26,
   "id": "f1898e00",
   "metadata": {},
   "outputs": [],
   "source": [
    "#DecisionTrees model\n",
    "from sklearn import tree\n",
    "from sklearn.preprocessing import StandardScaler\n"
   ]
  },
  {
   "cell_type": "code",
   "execution_count": 27,
   "id": "56ce96bb",
   "metadata": {},
   "outputs": [],
   "source": [
    "#prep data for the model\n",
    "y_dt = df[\"class\"]\n",
    "X_dt = df.drop(columns=['class', 'Unnamed: 0', 'deaths', 'cruderate', 'Year', 'countycode', 'State', 'county', 'UnemployedRate', 'PovertyPop'])\n",
    "#X_dt.shape"
   ]
  },
  {
   "cell_type": "code",
   "execution_count": 28,
   "id": "25babb36",
   "metadata": {},
   "outputs": [],
   "source": [
    "#split into test and train sets\n",
    "X_dt_train, X_dt_test, y_dt_train, y_dt_test = train_test_split(X_dt, y_dt)"
   ]
  },
  {
   "cell_type": "code",
   "execution_count": 29,
   "id": "0b50ecce",
   "metadata": {},
   "outputs": [],
   "source": [
    "# Creating a StandardScaler instance.\n",
    "scaler = StandardScaler()\n",
    "# Fitting the Standard Scaler with the training data.\n",
    "X_dt_scaler = scaler.fit(X_dt_train)\n",
    "\n",
    "# Scaling the data.\n",
    "X_dt_train_scaled = X_dt_scaler.transform(X_dt_train)\n",
    "X_dt_test_scaled = X_dt_scaler.transform(X_dt_test)"
   ]
  },
  {
   "cell_type": "code",
   "execution_count": 30,
   "id": "c18b877c",
   "metadata": {},
   "outputs": [],
   "source": [
    "# Creating the decision tree classifier instance.\n",
    "model_dt = tree.DecisionTreeClassifier()\n",
    "# Fitting the model.\n",
    "model_dt = model_dt.fit(X_dt_train_scaled, y_dt_train)"
   ]
  },
  {
   "cell_type": "code",
   "execution_count": 31,
   "id": "980eef59",
   "metadata": {},
   "outputs": [],
   "source": [
    "# Making predictions using the testing data.\n",
    "predictions = model_dt.predict(X_dt_test_scaled)"
   ]
  },
  {
   "cell_type": "code",
   "execution_count": 32,
   "id": "c77945b5",
   "metadata": {},
   "outputs": [
    {
     "data": {
      "text/html": [
       "<div>\n",
       "<style scoped>\n",
       "    .dataframe tbody tr th:only-of-type {\n",
       "        vertical-align: middle;\n",
       "    }\n",
       "\n",
       "    .dataframe tbody tr th {\n",
       "        vertical-align: top;\n",
       "    }\n",
       "\n",
       "    .dataframe thead th {\n",
       "        text-align: right;\n",
       "    }\n",
       "</style>\n",
       "<table border=\"1\" class=\"dataframe\">\n",
       "  <thead>\n",
       "    <tr style=\"text-align: right;\">\n",
       "      <th></th>\n",
       "      <th>Predicted 0</th>\n",
       "      <th>Predicted 1</th>\n",
       "    </tr>\n",
       "  </thead>\n",
       "  <tbody>\n",
       "    <tr>\n",
       "      <th>Actual 0</th>\n",
       "      <td>469</td>\n",
       "      <td>100</td>\n",
       "    </tr>\n",
       "    <tr>\n",
       "      <th>Actual 1</th>\n",
       "      <td>79</td>\n",
       "      <td>116</td>\n",
       "    </tr>\n",
       "  </tbody>\n",
       "</table>\n",
       "</div>"
      ],
      "text/plain": [
       "          Predicted 0  Predicted 1\n",
       "Actual 0          469          100\n",
       "Actual 1           79          116"
      ]
     },
     "execution_count": 32,
     "metadata": {},
     "output_type": "execute_result"
    }
   ],
   "source": [
    "# Calculating the confusion matrix\n",
    "cm_dt = confusion_matrix(y_dt_test, predictions)\n",
    "\n",
    "# Create a DataFrame from the confusion matrix.\n",
    "cm_dt_df = pd.DataFrame(\n",
    "    cm_dt, index=[\"Actual 0\", \"Actual 1\"], columns=[\"Predicted 0\", \"Predicted 1\"])\n",
    "\n",
    "cm_dt_df"
   ]
  },
  {
   "cell_type": "code",
   "execution_count": 33,
   "id": "7c113209",
   "metadata": {},
   "outputs": [
    {
     "name": "stdout",
     "output_type": "stream",
     "text": [
      "0.7657068062827225\n"
     ]
    }
   ],
   "source": [
    "# Calculating the accuracy score.\n",
    "acc_score_dt = accuracy_score(y_dt_test, predictions)\n",
    "print(acc_score_dt)"
   ]
  },
  {
   "cell_type": "code",
   "execution_count": 34,
   "id": "553c4cd1",
   "metadata": {},
   "outputs": [
    {
     "name": "stdout",
     "output_type": "stream",
     "text": [
      "Confusion Matrix\n"
     ]
    },
    {
     "data": {
      "text/html": [
       "<div>\n",
       "<style scoped>\n",
       "    .dataframe tbody tr th:only-of-type {\n",
       "        vertical-align: middle;\n",
       "    }\n",
       "\n",
       "    .dataframe tbody tr th {\n",
       "        vertical-align: top;\n",
       "    }\n",
       "\n",
       "    .dataframe thead th {\n",
       "        text-align: right;\n",
       "    }\n",
       "</style>\n",
       "<table border=\"1\" class=\"dataframe\">\n",
       "  <thead>\n",
       "    <tr style=\"text-align: right;\">\n",
       "      <th></th>\n",
       "      <th>Predicted 0</th>\n",
       "      <th>Predicted 1</th>\n",
       "    </tr>\n",
       "  </thead>\n",
       "  <tbody>\n",
       "    <tr>\n",
       "      <th>Actual 0</th>\n",
       "      <td>469</td>\n",
       "      <td>100</td>\n",
       "    </tr>\n",
       "    <tr>\n",
       "      <th>Actual 1</th>\n",
       "      <td>79</td>\n",
       "      <td>116</td>\n",
       "    </tr>\n",
       "  </tbody>\n",
       "</table>\n",
       "</div>"
      ],
      "text/plain": [
       "          Predicted 0  Predicted 1\n",
       "Actual 0          469          100\n",
       "Actual 1           79          116"
      ]
     },
     "metadata": {},
     "output_type": "display_data"
    },
    {
     "name": "stdout",
     "output_type": "stream",
     "text": [
      "Accuracy Score : 0.7657068062827225\n",
      "Classification Report\n",
      "              precision    recall  f1-score   support\n",
      "\n",
      "           0       0.86      0.82      0.84       569\n",
      "           1       0.54      0.59      0.56       195\n",
      "\n",
      "    accuracy                           0.77       764\n",
      "   macro avg       0.70      0.71      0.70       764\n",
      "weighted avg       0.77      0.77      0.77       764\n",
      "\n"
     ]
    }
   ],
   "source": [
    "# Displaying results\n",
    "print(\"Confusion Matrix\")\n",
    "display(cm_dt_df)\n",
    "print(f\"Accuracy Score : {acc_score_dt}\")\n",
    "print(\"Classification Report\")\n",
    "print(classification_report(y_dt_test, predictions))"
   ]
  },
  {
   "cell_type": "code",
   "execution_count": null,
   "id": "04637504",
   "metadata": {},
   "outputs": [],
   "source": []
  },
  {
   "cell_type": "code",
   "execution_count": null,
   "id": "fab0030e",
   "metadata": {},
   "outputs": [],
   "source": []
  }
 ],
 "metadata": {
  "kernelspec": {
   "display_name": "mlenv",
   "language": "python",
   "name": "mlenv"
  },
  "language_info": {
   "codemirror_mode": {
    "name": "ipython",
    "version": 3
   },
   "file_extension": ".py",
   "mimetype": "text/x-python",
   "name": "python",
   "nbconvert_exporter": "python",
   "pygments_lexer": "ipython3",
   "version": "3.7.13"
  }
 },
 "nbformat": 4,
 "nbformat_minor": 5
}
